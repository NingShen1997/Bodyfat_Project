{
 "cells": [
  {
   "cell_type": "markdown",
   "metadata": {},
   "source": [
    "# Introduction"
   ]
  },
  {
   "cell_type": "markdown",
   "metadata": {},
   "source": [
    "**Project Motivation:** In this project, we explores what factors effect body fat, furthermore, expect to develop a reliable but simple calculator for body fat. Body fat is a better representative than weight or BMI for obesity which contributes to about half the chronic diseases and increases risks for heart disease, so it is worthwhile to research on the subject. Extant relatively accurate body fat calculating method are always costly and troublesome. For example, Siri’s equation involving measure of body volume which usually derived from underwater submersion. Or like skinfold regression equation requires X-ray scanning techniques."
   ]
  },
  {
   "cell_type": "markdown",
   "metadata": {},
   "source": [
    "**Data Discription:** We focus on body fat data file containing only 252 males' accurate bodyfat (%), density (gm/cm^3), ages (yrs), weights (lbs), heights (inches) and some body part circumferences (cm) trying to extract useful information for our body fat calculator. Here, to achieve our goal of simplicity, we just used linear regression model. Linear regression model is an easily understandable model with parameters not hard to interpret. Besides, it is also enough flexible as we could add interaction terms to explain the relationship between different variables."
   ]
  },
  {
   "cell_type": "markdown",
   "metadata": {},
   "source": [
    "**The chosen model:** \n",
    "$$B(\\%) = 0.90*A (cm) - 0.12*W (lbs) - 42,$$ i.e. $$B(\\%) = \\beta_2*A (cm) - \\beta_1*W (lbs) - \\beta_0,$$\n",
    " where B is the bodyfat percentage (unit: %), A is the abdomen circumference (unit: centimeter), and W is the weight (unit: pound).\n",
    "\n",
    "Another intuitive way to understand the model: for example, hypothetically there are two males with same weight but one has much larger waistline than another, then normally we infer this person is more fat than the other, that is to say, his bodyfat is assumed to be higher."
   ]
  },
  {
   "cell_type": "markdown",
   "metadata": {},
   "source": [
    "# Data Cleaning"
   ]
  },
  {
   "cell_type": "code",
   "execution_count": 70,
   "metadata": {},
   "outputs": [
    {
     "data": {
      "text/html": [
       "<table>\n",
       "<thead><tr><th scope=col>0%</th><th scope=col>25%</th><th scope=col>50%</th><th scope=col>75%</th><th scope=col>100%</th></tr></thead>\n",
       "<tbody>\n",
       "\t<tr><td>29.5 </td><td>68.25</td><td>70   </td><td>72.25</td><td>77.75</td></tr>\n",
       "</tbody>\n",
       "</table>\n"
      ],
      "text/latex": [
       "\\begin{tabular}{lllll}\n",
       " 0\\% & 25\\% & 50\\% & 75\\% & 100\\%\\\\\n",
       "\\hline\n",
       "\t 29.5  & 68.25 & 70    & 72.25 & 77.75\\\\\n",
       "\\end{tabular}\n"
      ],
      "text/markdown": [
       "\n",
       "0% | 25% | 50% | 75% | 100% | \n",
       "|---|\n",
       "| 29.5  | 68.25 | 70    | 72.25 | 77.75 | \n",
       "\n",
       "\n"
      ],
      "text/plain": [
       "     0%   25%   50% 75%   100% \n",
       "[1,] 29.5 68.25 70  72.25 77.75"
      ]
     },
     "metadata": {},
     "output_type": "display_data"
    },
    {
     "data": {
      "text/html": [
       "<table>\n",
       "<thead><tr><th></th><th scope=col>IDNO</th><th scope=col>BODYFAT</th><th scope=col>DENSITY</th><th scope=col>AGE</th><th scope=col>WEIGHT</th><th scope=col>HEIGHT</th><th scope=col>ADIPOSITY</th><th scope=col>NECK</th><th scope=col>CHEST</th><th scope=col>ABDOMEN</th><th scope=col>HIP</th><th scope=col>THIGH</th><th scope=col>KNEE</th><th scope=col>ANKLE</th><th scope=col>BICEPS</th><th scope=col>FOREARM</th><th scope=col>WRIST</th></tr></thead>\n",
       "<tbody>\n",
       "\t<tr><th scope=row>42</th><td>42   </td><td>31.7 </td><td>1.025</td><td>44   </td><td>205  </td><td>29.5 </td><td>29.9 </td><td>36.6 </td><td>106  </td><td>104.3</td><td>115.5</td><td>70.6 </td><td>42.5 </td><td>23.7 </td><td>33.6 </td><td>28.7 </td><td>17.4 </td></tr>\n",
       "</tbody>\n",
       "</table>\n"
      ],
      "text/latex": [
       "\\begin{tabular}{r|lllllllllllllllll}\n",
       "  & IDNO & BODYFAT & DENSITY & AGE & WEIGHT & HEIGHT & ADIPOSITY & NECK & CHEST & ABDOMEN & HIP & THIGH & KNEE & ANKLE & BICEPS & FOREARM & WRIST\\\\\n",
       "\\hline\n",
       "\t42 & 42    & 31.7  & 1.025 & 44    & 205   & 29.5  & 29.9  & 36.6  & 106   & 104.3 & 115.5 & 70.6  & 42.5  & 23.7  & 33.6  & 28.7  & 17.4 \\\\\n",
       "\\end{tabular}\n"
      ],
      "text/markdown": [
       "\n",
       "| <!--/--> | IDNO | BODYFAT | DENSITY | AGE | WEIGHT | HEIGHT | ADIPOSITY | NECK | CHEST | ABDOMEN | HIP | THIGH | KNEE | ANKLE | BICEPS | FOREARM | WRIST | \n",
       "|---|\n",
       "| 42 | 42    | 31.7  | 1.025 | 44    | 205   | 29.5  | 29.9  | 36.6  | 106   | 104.3 | 115.5 | 70.6  | 42.5  | 23.7  | 33.6  | 28.7  | 17.4  | \n",
       "\n",
       "\n"
      ],
      "text/plain": [
       "   IDNO BODYFAT DENSITY AGE WEIGHT HEIGHT ADIPOSITY NECK CHEST ABDOMEN HIP  \n",
       "42 42   31.7    1.025   44  205    29.5   29.9      36.6 106   104.3   115.5\n",
       "   THIGH KNEE ANKLE BICEPS FOREARM WRIST\n",
       "42 70.6  42.5 23.7  33.6   28.7    17.4 "
      ]
     },
     "metadata": {},
     "output_type": "display_data"
    }
   ],
   "source": [
    "Dat = read.csv(\"BodyFat.csv\",header=T)\n",
    "t(quantile(Dat$HEIGHT)) #quantiles of height in whole dataset\n",
    "Dat[42,] ## 42th sample has abnormal height value"
   ]
  },
  {
   "cell_type": "markdown",
   "metadata": {},
   "source": [
    "**Imputation of height on No.42:**"
   ]
  },
  {
   "cell_type": "code",
   "execution_count": 71,
   "metadata": {},
   "outputs": [
    {
     "data": {
      "text/html": [
       "69.43"
      ],
      "text/latex": [
       "69.43"
      ],
      "text/markdown": [
       "69.43"
      ],
      "text/plain": [
       "[1] 69.43"
      ]
     },
     "metadata": {},
     "output_type": "display_data"
    }
   ],
   "source": [
    "(Dat$HEIGHT[42] = round(sqrt(Dat$WEIGHT[42]*703/Dat$ADIPOSITY[42]),2)) ## Imputed value ## Fisrt-time data cleaning"
   ]
  },
  {
   "cell_type": "markdown",
   "metadata": {},
   "source": [
    "Samples No.48, 96,182 are considered as influential points due to large Cook's distances (showed in detailed version on github). Since we are not sure whether the error came from the observation of DENSITY or BODYFAT, we decided to remove these 3 samples."
   ]
  },
  {
   "cell_type": "code",
   "execution_count": 8,
   "metadata": {},
   "outputs": [],
   "source": [
    "Dat.sub = Dat[-c(48,96,182),] ## Second-time cleaned dataset"
   ]
  },
  {
   "cell_type": "markdown",
   "metadata": {},
   "source": [
    "# Statistical Analysis"
   ]
  },
  {
   "cell_type": "markdown",
   "metadata": {},
   "source": [
    "**Exploratory Analysis:** Scatterplots between bodyfat and predictors reveals that except for age and height, other variables all have somewhat linear relationship with bodyfat. Also from pairs plot, we can also observe that most of body part circumference variables are linear correlated, which could cause multicolinearity if we include all predictors in the model. But due to limited space, detailed plots are posted in the detailed version on github."
   ]
  },
  {
   "cell_type": "markdown",
   "metadata": {},
   "source": [
    "First we only include weight as predictor because of its easy access:"
   ]
  },
  {
   "cell_type": "code",
   "execution_count": 16,
   "metadata": {},
   "outputs": [
    {
     "data": {
      "text/html": [
       "<table>\n",
       "<thead><tr><th></th><th scope=col>Estimate</th><th scope=col>Std. Error</th><th scope=col>t value</th><th scope=col>Pr(&gt;|t|)</th></tr></thead>\n",
       "<tbody>\n",
       "\t<tr><th scope=row>(Intercept)</th><td>-9.5677973  </td><td>2.41353759  </td><td>-3.964221   </td><td>9.646217e-05</td></tr>\n",
       "\t<tr><th scope=row>WEIGHT</th><td> 0.1599011  </td><td>0.01330163  </td><td>12.021170   </td><td>1.633716e-26</td></tr>\n",
       "</tbody>\n",
       "</table>\n"
      ],
      "text/latex": [
       "\\begin{tabular}{r|llll}\n",
       "  & Estimate & Std. Error & t value & Pr(>\\textbar{}t\\textbar{})\\\\\n",
       "\\hline\n",
       "\t(Intercept) & -9.5677973   & 2.41353759   & -3.964221    & 9.646217e-05\\\\\n",
       "\tWEIGHT &  0.1599011   & 0.01330163   & 12.021170    & 1.633716e-26\\\\\n",
       "\\end{tabular}\n"
      ],
      "text/markdown": [
       "\n",
       "| <!--/--> | Estimate | Std. Error | t value | Pr(>|t|) | \n",
       "|---|---|\n",
       "| (Intercept) | -9.5677973   | 2.41353759   | -3.964221    | 9.646217e-05 | \n",
       "| WEIGHT |  0.1599011   | 0.01330163   | 12.021170    | 1.633716e-26 | \n",
       "\n",
       "\n"
      ],
      "text/plain": [
       "            Estimate   Std. Error t value   Pr(>|t|)    \n",
       "(Intercept) -9.5677973 2.41353759 -3.964221 9.646217e-05\n",
       "WEIGHT       0.1599011 0.01330163 12.021170 1.633716e-26"
      ]
     },
     "metadata": {},
     "output_type": "display_data"
    }
   ],
   "source": [
    "model0 = lm(BODYFAT~WEIGHT, data = Dat.sub)\n",
    "summary(model0)$coef"
   ]
  },
  {
   "cell_type": "code",
   "execution_count": 17,
   "metadata": {},
   "outputs": [
    {
     "data": {
      "text/html": [
       "0.369"
      ],
      "text/latex": [
       "0.369"
      ],
      "text/markdown": [
       "0.369"
      ],
      "text/plain": [
       "[1] 0.369"
      ]
     },
     "metadata": {},
     "output_type": "display_data"
    }
   ],
   "source": [
    "round(summary(model0)$r.squared,3) ### R^2 of this simplest model, a bit low"
   ]
  },
  {
   "cell_type": "markdown",
   "metadata": {},
   "source": [
    "Then we want to add on just one of body part circumference variables in order to increase the R-squared but keep the simplicity of our model. And 'abdomen' seems to be the best choice."
   ]
  },
  {
   "cell_type": "code",
   "execution_count": 79,
   "metadata": {},
   "outputs": [
    {
     "data": {
      "text/html": [
       "<table>\n",
       "<thead><tr><th scope=col>NECK</th><th scope=col>CHEST</th><th scope=col>ABDOMEN</th><th scope=col>HIP</th><th scope=col>THIGH</th><th scope=col>KNEE</th><th scope=col>ANKLE</th><th scope=col>BICEPS</th><th scope=col>FOREARM</th><th scope=col>WRIST</th></tr></thead>\n",
       "<tbody>\n",
       "\t<tr><td>0.37 </td><td>0.487</td><td>0.713</td><td>0.388</td><td>0.371</td><td>0.37 </td><td>0.392</td><td>0.369</td><td>0.37 </td><td>0.389</td></tr>\n",
       "</tbody>\n",
       "</table>\n"
      ],
      "text/latex": [
       "\\begin{tabular}{llllllllll}\n",
       " NECK & CHEST & ABDOMEN & HIP & THIGH & KNEE & ANKLE & BICEPS & FOREARM & WRIST\\\\\n",
       "\\hline\n",
       "\t 0.37  & 0.487 & 0.713 & 0.388 & 0.371 & 0.37  & 0.392 & 0.369 & 0.37  & 0.389\\\\\n",
       "\\end{tabular}\n"
      ],
      "text/markdown": [
       "\n",
       "NECK | CHEST | ABDOMEN | HIP | THIGH | KNEE | ANKLE | BICEPS | FOREARM | WRIST | \n",
       "|---|\n",
       "| 0.37  | 0.487 | 0.713 | 0.388 | 0.371 | 0.37  | 0.392 | 0.369 | 0.37  | 0.389 | \n",
       "\n",
       "\n"
      ],
      "text/plain": [
       "     NECK CHEST ABDOMEN HIP   THIGH KNEE ANKLE BICEPS FOREARM WRIST\n",
       "[1,] 0.37 0.487 0.713   0.388 0.371 0.37 0.392 0.369  0.37    0.389"
      ]
     },
     "metadata": {},
     "output_type": "display_data"
    }
   ],
   "source": [
    "frame=NULL\n",
    "for (i in 8:17){\n",
    "    model=lm(BODYFAT~WEIGHT + Dat.sub[,i], data = Dat.sub)\n",
    "    frame=cbind(frame,summary(model)$r.squared)\n",
    "}\n",
    "colnames(frame)=names(Dat.sub)[8:17]\n",
    "round(frame,3) ##The R-squared of linear model after adding on a circumference variable"
   ]
  },
  {
   "cell_type": "code",
   "execution_count": 20,
   "metadata": {},
   "outputs": [
    {
     "data": {
      "text/html": [
       "<table>\n",
       "<thead><tr><th></th><th scope=col>Estimate</th><th scope=col>Pr(&gt;|t|)</th></tr></thead>\n",
       "<tbody>\n",
       "\t<tr><th scope=row>(Intercept)</th><td>-41.00 </td><td>2.7e-42</td></tr>\n",
       "\t<tr><th scope=row>WEIGHT</th><td> -0.14 </td><td>2.5e-11</td></tr>\n",
       "\t<tr><th scope=row>ABDOMEN</th><td>  0.91 </td><td>6.0e-44</td></tr>\n",
       "</tbody>\n",
       "</table>\n"
      ],
      "text/latex": [
       "\\begin{tabular}{r|ll}\n",
       "  & Estimate & Pr(>\\textbar{}t\\textbar{})\\\\\n",
       "\\hline\n",
       "\t(Intercept) & -41.00  & 2.7e-42\\\\\n",
       "\tWEIGHT &  -0.14  & 2.5e-11\\\\\n",
       "\tABDOMEN &   0.91  & 6.0e-44\\\\\n",
       "\\end{tabular}\n"
      ],
      "text/markdown": [
       "\n",
       "| <!--/--> | Estimate | Pr(>|t|) | \n",
       "|---|---|---|\n",
       "| (Intercept) | -41.00  | 2.7e-42 | \n",
       "| WEIGHT |  -0.14  | 2.5e-11 | \n",
       "| ABDOMEN |   0.91  | 6.0e-44 | \n",
       "\n",
       "\n"
      ],
      "text/plain": [
       "            Estimate Pr(>|t|)\n",
       "(Intercept) -41.00   2.7e-42 \n",
       "WEIGHT       -0.14   2.5e-11 \n",
       "ABDOMEN       0.91   6.0e-44 "
      ]
     },
     "metadata": {},
     "output_type": "display_data"
    }
   ],
   "source": [
    "model1 = lm(BODYFAT~WEIGHT+ABDOMEN, data = Dat.sub)\n",
    "signif(summary(model1)$coef[,c(1,4)],2) #Estimated coefficients and P-values of model1"
   ]
  },
  {
   "cell_type": "code",
   "execution_count": 21,
   "metadata": {},
   "outputs": [
    {
     "data": {
      "text/html": [
       "0.713"
      ],
      "text/latex": [
       "0.713"
      ],
      "text/markdown": [
       "0.713"
      ],
      "text/plain": [
       "[1] 0.713"
      ]
     },
     "metadata": {},
     "output_type": "display_data"
    }
   ],
   "source": [
    "round(summary(model1)$r.squared,3)"
   ]
  },
  {
   "cell_type": "markdown",
   "metadata": {},
   "source": [
    "By adding on the interaction term, R-squared only increased 0.012 (see below). Also the effect size of weight and interaction term are close to 0, and P-values are decreased correspondingly. Thus we believe such insignificant improvement does not deserve the complexity. Without the interaction term, our model is simpler to remember and understand."
   ]
  },
  {
   "cell_type": "code",
   "execution_count": 22,
   "metadata": {},
   "outputs": [
    {
     "data": {
      "text/html": [
       "<table>\n",
       "<thead><tr><th></th><th scope=col>Estimate</th><th scope=col>Pr(&gt;|t|)</th></tr></thead>\n",
       "<tbody>\n",
       "\t<tr><th scope=row>(Intercept)</th><td>-64.0000</td><td>8.5e-15 </td></tr>\n",
       "\t<tr><th scope=row>WEIGHT</th><td> -0.0031</td><td>9.5e-01 </td></tr>\n",
       "\t<tr><th scope=row>ABDOMEN</th><td>  1.1000</td><td>4.1e-29 </td></tr>\n",
       "\t<tr><th scope=row>WEIGHT:ABDOMEN</th><td> -0.0013</td><td>1.7e-03 </td></tr>\n",
       "</tbody>\n",
       "</table>\n"
      ],
      "text/latex": [
       "\\begin{tabular}{r|ll}\n",
       "  & Estimate & Pr(>\\textbar{}t\\textbar{})\\\\\n",
       "\\hline\n",
       "\t(Intercept) & -64.0000 & 8.5e-15 \\\\\n",
       "\tWEIGHT &  -0.0031 & 9.5e-01 \\\\\n",
       "\tABDOMEN &   1.1000 & 4.1e-29 \\\\\n",
       "\tWEIGHT:ABDOMEN &  -0.0013 & 1.7e-03 \\\\\n",
       "\\end{tabular}\n"
      ],
      "text/markdown": [
       "\n",
       "| <!--/--> | Estimate | Pr(>|t|) | \n",
       "|---|---|---|---|\n",
       "| (Intercept) | -64.0000 | 8.5e-15  | \n",
       "| WEIGHT |  -0.0031 | 9.5e-01  | \n",
       "| ABDOMEN |   1.1000 | 4.1e-29  | \n",
       "| WEIGHT:ABDOMEN |  -0.0013 | 1.7e-03  | \n",
       "\n",
       "\n"
      ],
      "text/plain": [
       "               Estimate Pr(>|t|)\n",
       "(Intercept)    -64.0000 8.5e-15 \n",
       "WEIGHT          -0.0031 9.5e-01 \n",
       "ABDOMEN          1.1000 4.1e-29 \n",
       "WEIGHT:ABDOMEN  -0.0013 1.7e-03 "
      ]
     },
     "metadata": {},
     "output_type": "display_data"
    }
   ],
   "source": [
    "model1.sub = lm(BODYFAT~WEIGHT*ABDOMEN, data = Dat.sub)\n",
    "signif(summary(model1.sub)$coef[,c(1,4)],2) #Estimated coefficients and P-values of model2"
   ]
  },
  {
   "cell_type": "code",
   "execution_count": 23,
   "metadata": {},
   "outputs": [
    {
     "data": {
      "text/html": [
       "0.724"
      ],
      "text/latex": [
       "0.724"
      ],
      "text/markdown": [
       "0.724"
      ],
      "text/plain": [
       "[1] 0.724"
      ]
     },
     "metadata": {},
     "output_type": "display_data"
    }
   ],
   "source": [
    "round(summary(model1.sub)$r.squared,3)"
   ]
  },
  {
   "cell_type": "markdown",
   "metadata": {},
   "source": [
    "Next we illustrate the residual plot and cook's distance plot of model1 (BODYFAT~WEIGHT+ABDOMEN):"
   ]
  },
  {
   "cell_type": "code",
   "execution_count": 75,
   "metadata": {},
   "outputs": [
    {
     "data": {
      "image/png": "[encoded data removed]",
      "text/plain": [
       "Plot with title “”"
      ]
     },
     "metadata": {},
     "output_type": "display_data"
    }
   ],
   "source": [
    "options(repr.plot.width=6, repr.plot.height=3)\n",
    "par(mfrow=c(1,2))\n",
    "plot(model1, which = c(1,4))"
   ]
  },
  {
   "cell_type": "markdown",
   "metadata": {},
   "source": [
    "By looking at residual plot and cook's distance, No.39 appeared to be an influential point, thus we decided to delete this sample."
   ]
  },
  {
   "cell_type": "code",
   "execution_count": 26,
   "metadata": {},
   "outputs": [
    {
     "data": {
      "text/html": [
       "<table>\n",
       "<thead><tr><th></th><th scope=col>Estimate</th><th scope=col>Std. Error</th><th scope=col>Pr(&gt;|t|)</th></tr></thead>\n",
       "<tbody>\n",
       "\t<tr><th scope=row>(Intercept)</th><td>-42.00 </td><td>2.500  </td><td>9.7e-44</td></tr>\n",
       "\t<tr><th scope=row>WEIGHT</th><td> -0.12 </td><td>0.020  </td><td>3.2e-09</td></tr>\n",
       "\t<tr><th scope=row>ABDOMEN</th><td>  0.90 </td><td>0.052  </td><td>5.5e-44</td></tr>\n",
       "</tbody>\n",
       "</table>\n"
      ],
      "text/latex": [
       "\\begin{tabular}{r|lll}\n",
       "  & Estimate & Std. Error & Pr(>\\textbar{}t\\textbar{})\\\\\n",
       "\\hline\n",
       "\t(Intercept) & -42.00  & 2.500   & 9.7e-44\\\\\n",
       "\tWEIGHT &  -0.12  & 0.020   & 3.2e-09\\\\\n",
       "\tABDOMEN &   0.90  & 0.052   & 5.5e-44\\\\\n",
       "\\end{tabular}\n"
      ],
      "text/markdown": [
       "\n",
       "| <!--/--> | Estimate | Std. Error | Pr(>|t|) | \n",
       "|---|---|---|\n",
       "| (Intercept) | -42.00  | 2.500   | 9.7e-44 | \n",
       "| WEIGHT |  -0.12  | 0.020   | 3.2e-09 | \n",
       "| ABDOMEN |   0.90  | 0.052   | 5.5e-44 | \n",
       "\n",
       "\n"
      ],
      "text/plain": [
       "            Estimate Std. Error Pr(>|t|)\n",
       "(Intercept) -42.00   2.500      9.7e-44 \n",
       "WEIGHT       -0.12   0.020      3.2e-09 \n",
       "ABDOMEN       0.90   0.052      5.5e-44 "
      ]
     },
     "metadata": {},
     "output_type": "display_data"
    }
   ],
   "source": [
    "Dat.sub2 = Dat.sub[-39,] ## Third-time data cleaning\n",
    "model2 = lm(BODYFAT ~ WEIGHT + ABDOMEN, data = Dat.sub2)\n",
    "signif(summary(model2)$coef[,c(1,2,4)],2) ## Estimates, standard error and P-values of model2 (BODYFAT ~ WEIGHT + ABDOMEN)"
   ]
  },
  {
   "cell_type": "code",
   "execution_count": 76,
   "metadata": {},
   "outputs": [
    {
     "data": {
      "text/html": [
       "0.718"
      ],
      "text/latex": [
       "0.718"
      ],
      "text/markdown": [
       "0.718"
      ],
      "text/plain": [
       "[1] 0.718"
      ]
     },
     "metadata": {},
     "output_type": "display_data"
    }
   ],
   "source": [
    "round(summary(model2)$r.squared,3) ### R^2"
   ]
  },
  {
   "cell_type": "markdown",
   "metadata": {},
   "source": [
    "We also want to explore the possibility of more than two predictors, so we try adding on one body part circumference variables other than ABDOMEN to the current model and check out the R-squared with different additional variables. Although adding on WRIST can increase the  𝑅2  maximumly, the increment is negligible (0.73 - 0.718 = 0.012). Results are showed below:"
   ]
  },
  {
   "cell_type": "code",
   "execution_count": 28,
   "metadata": {},
   "outputs": [
    {
     "data": {
      "text/html": [
       "<table>\n",
       "<thead><tr><th></th><th scope=col>NECK</th><th scope=col>CHEST</th><th scope=col>HIP</th><th scope=col>THIGH</th><th scope=col>KNEE</th><th scope=col>ANKLE</th><th scope=col>BICEPS</th><th scope=col>FOREARM</th><th scope=col>WRIST</th></tr></thead>\n",
       "<tbody>\n",
       "\t<tr><th scope=row>r.squared</th><td>0.723</td><td>0.719</td><td>0.718</td><td>0.722</td><td>0.718</td><td>0.718</td><td>0.72 </td><td>0.719</td><td>0.73 </td></tr>\n",
       "</tbody>\n",
       "</table>\n"
      ],
      "text/latex": [
       "\\begin{tabular}{r|lllllllll}\n",
       "  & NECK & CHEST & HIP & THIGH & KNEE & ANKLE & BICEPS & FOREARM & WRIST\\\\\n",
       "\\hline\n",
       "\tr.squared & 0.723 & 0.719 & 0.718 & 0.722 & 0.718 & 0.718 & 0.72  & 0.719 & 0.73 \\\\\n",
       "\\end{tabular}\n"
      ],
      "text/markdown": [
       "\n",
       "| <!--/--> | NECK | CHEST | HIP | THIGH | KNEE | ANKLE | BICEPS | FOREARM | WRIST | \n",
       "|---|\n",
       "| r.squared | 0.723 | 0.719 | 0.718 | 0.722 | 0.718 | 0.718 | 0.72  | 0.719 | 0.73  | \n",
       "\n",
       "\n"
      ],
      "text/plain": [
       "          NECK  CHEST HIP   THIGH KNEE  ANKLE BICEPS FOREARM WRIST\n",
       "r.squared 0.723 0.719 0.718 0.722 0.718 0.718 0.72   0.719   0.73 "
      ]
     },
     "metadata": {},
     "output_type": "display_data"
    }
   ],
   "source": [
    "frame=NULL\n",
    "for (i in c(8:9,11:17)){\n",
    "    model=lm(BODYFAT~WEIGHT+ABDOMEN+Dat.sub2[,i], data = Dat.sub2)\n",
    "    frame=cbind(frame,summary(model)$r.squared)\n",
    "}\n",
    "colnames(frame)=names(Dat.sub)[c(8:9,11:17)]\n",
    "rownames(frame)=\"r.squared\"\n",
    "round(frame,3)"
   ]
  },
  {
   "cell_type": "markdown",
   "metadata": {},
   "source": [
    "**Thus the final model is:** $B(\\%) = 0.90*A (cm) - 0.12*W (lbs) - 42$ (model2),\n",
    " where B is the bodyfat percentage (unit is %), A is the abdomen circumference (unit: centimeter), and W is the weight (unit: pound)."
   ]
  },
  {
   "cell_type": "markdown",
   "metadata": {},
   "source": [
    "# Diagnositics"
   ]
  },
  {
   "cell_type": "markdown",
   "metadata": {},
   "source": [
    "#### Residual Plot, QQ-plot and Cook's Distance Plot:\n",
    "The points in the residual plot are randomly dispersed around the horizontal axis, which shows the model meets the normal assumption of residuals.\n",
    "\n",
    "The points in the QQ-normal plot almost lie on a straight diagonal line, so the data is roughly normally distributed.\n",
    "\n",
    "In cook's diatance plot below, there is no obvious influential point."
   ]
  },
  {
   "cell_type": "code",
   "execution_count": 52,
   "metadata": {},
   "outputs": [
    {
     "data": {
      "image/png": "[encoded data removed]",
      "text/plain": [
       "Plot with title “”"
      ]
     },
     "metadata": {},
     "output_type": "display_data"
    }
   ],
   "source": [
    "options(repr.plot.width=8, repr.plot.height=2.7)\n",
    "par(mfrow = c(1,3))\n",
    "plot(model2,which = c(1,2,4))"
   ]
  },
  {
   "cell_type": "markdown",
   "metadata": {},
   "source": [
    "# Model Summary and Interpretation"
   ]
  },
  {
   "cell_type": "markdown",
   "metadata": {},
   "source": [
    "## Relevent summary statistics:"
   ]
  },
  {
   "cell_type": "code",
   "execution_count": 38,
   "metadata": {},
   "outputs": [
    {
     "data": {
      "text/html": [
       "0.718"
      ],
      "text/latex": [
       "0.718"
      ],
      "text/markdown": [
       "0.718"
      ],
      "text/plain": [
       "[1] 0.718"
      ]
     },
     "metadata": {},
     "output_type": "display_data"
    }
   ],
   "source": [
    "Model = model2\n",
    "Model.summary = summary(Model)\n",
    "### The R^2 of the full model: (sufficiently high)\n",
    "round(Model.summary$r.squared,3) "
   ]
  },
  {
   "cell_type": "code",
   "execution_count": 39,
   "metadata": {},
   "outputs": [
    {
     "data": {
      "text/html": [
       "<table>\n",
       "<thead><tr><th></th><th scope=col>Estimate</th><th scope=col>Std. Error</th><th scope=col>Pr(&gt;|t|)</th></tr></thead>\n",
       "<tbody>\n",
       "\t<tr><th scope=row>(Intercept)</th><td>-42.00 </td><td>2.500  </td><td>9.7e-44</td></tr>\n",
       "\t<tr><th scope=row>WEIGHT</th><td> -0.12 </td><td>0.020  </td><td>3.2e-09</td></tr>\n",
       "\t<tr><th scope=row>ABDOMEN</th><td>  0.90 </td><td>0.052  </td><td>5.5e-44</td></tr>\n",
       "</tbody>\n",
       "</table>\n"
      ],
      "text/latex": [
       "\\begin{tabular}{r|lll}\n",
       "  & Estimate & Std. Error & Pr(>\\textbar{}t\\textbar{})\\\\\n",
       "\\hline\n",
       "\t(Intercept) & -42.00  & 2.500   & 9.7e-44\\\\\n",
       "\tWEIGHT &  -0.12  & 0.020   & 3.2e-09\\\\\n",
       "\tABDOMEN &   0.90  & 0.052   & 5.5e-44\\\\\n",
       "\\end{tabular}\n"
      ],
      "text/markdown": [
       "\n",
       "| <!--/--> | Estimate | Std. Error | Pr(>|t|) | \n",
       "|---|---|---|\n",
       "| (Intercept) | -42.00  | 2.500   | 9.7e-44 | \n",
       "| WEIGHT |  -0.12  | 0.020   | 3.2e-09 | \n",
       "| ABDOMEN |   0.90  | 0.052   | 5.5e-44 | \n",
       "\n",
       "\n"
      ],
      "text/plain": [
       "            Estimate Std. Error Pr(>|t|)\n",
       "(Intercept) -42.00   2.500      9.7e-44 \n",
       "WEIGHT       -0.12   0.020      3.2e-09 \n",
       "ABDOMEN       0.90   0.052      5.5e-44 "
      ]
     },
     "metadata": {},
     "output_type": "display_data"
    }
   ],
   "source": [
    "### The estimates, standard errors and P-values of coefficients:\n",
    "signif(Model.summary$coef[,c(1,2,4)],2) "
   ]
  },
  {
   "cell_type": "code",
   "execution_count": 40,
   "metadata": {},
   "outputs": [
    {
     "data": {
      "text/html": [
       "<table>\n",
       "<thead><tr><th></th><th scope=col>2.5 %</th><th scope=col>97.5 %</th></tr></thead>\n",
       "<tbody>\n",
       "\t<tr><th scope=row>(Intercept)</th><td>-47.1209350 </td><td>-37.39562882</td></tr>\n",
       "\t<tr><th scope=row>WEIGHT</th><td> -0.1607417 </td><td> -0.08270941</td></tr>\n",
       "\t<tr><th scope=row>ABDOMEN</th><td>  0.7947265 </td><td>  1.00042256</td></tr>\n",
       "</tbody>\n",
       "</table>\n"
      ],
      "text/latex": [
       "\\begin{tabular}{r|ll}\n",
       "  & 2.5 \\% & 97.5 \\%\\\\\n",
       "\\hline\n",
       "\t(Intercept) & -47.1209350  & -37.39562882\\\\\n",
       "\tWEIGHT &  -0.1607417  &  -0.08270941\\\\\n",
       "\tABDOMEN &   0.7947265  &   1.00042256\\\\\n",
       "\\end{tabular}\n"
      ],
      "text/markdown": [
       "\n",
       "| <!--/--> | 2.5 % | 97.5 % | \n",
       "|---|---|---|\n",
       "| (Intercept) | -47.1209350  | -37.39562882 | \n",
       "| WEIGHT |  -0.1607417  |  -0.08270941 | \n",
       "| ABDOMEN |   0.7947265  |   1.00042256 | \n",
       "\n",
       "\n"
      ],
      "text/plain": [
       "            2.5 %       97.5 %      \n",
       "(Intercept) -47.1209350 -37.39562882\n",
       "WEIGHT       -0.1607417  -0.08270941\n",
       "ABDOMEN       0.7947265   1.00042256"
      ]
     },
     "metadata": {},
     "output_type": "display_data"
    }
   ],
   "source": [
    "### The confidence intervals of coefficients:\n",
    "confint(Model)"
   ]
  },
  {
   "cell_type": "markdown",
   "metadata": {},
   "source": [
    "Both coefficients of parameters are highly significant concluded from P-values."
   ]
  },
  {
   "cell_type": "markdown",
   "metadata": {},
   "source": [
    "## Interpretation:\n",
    "**Possible rule of thumb:** 9/10 abdomen circumference minus 1/8 weight, and minus 42.\n",
    "\n",
    "**Example Usage:** For a male with abdomen circumference of 80 cm and weight of 150 pounds, his estimated bodyfat is  0.89\\*80 - 0.12\\*150 - 42 = 11.4% (with rule of thumb, 11.25%), which indicates this man should be athletic, maybe does a lot of fitness in daily life. However, if a male's abdomen circumference is 90 cm and still weight of 150, his estimated bodyfat is 0.89\\*90 - 0.12\\*150 - 42 = 21.3% (with rule of thumb, 20.25%), so he could be a normal-sized person but a little bit fat.\n",
    "\n",
    "**Inference about Relationship:** Linear relationship clearly exists between the response variable and predictors (P-value of the full model vs. intercept-only model is 4.78e-68). Variation explained by this model achieved more than 70%.\n",
    "\n",
    "**Strength of our data analysis:**\n",
    "1. Simplicity: Only two independent variables are included, which makes the model simple enough to be understood. And both variables can be easily measured in our daily life, which assure the practicability.\n",
    "2. Assumption verification: We used QQ-plot to check normality of residuals which turns out to be reasonable and ploted residuals directly to verify homoskedasticity. Verification of both assumptions shows reliability of our model.\n",
    "3. Explanation of variation: Large R-square (0.718) indicates that the model is quite accurate to predict body fat.\n",
    "\n",
    "**Weakness:**\n",
    "1. Sample size is small. We only have 252 samples to bulid up the model.\n",
    "2. Scope of application is narrow. Since only males are measured in the dataset, this model cannot be applied on women.\n",
    "3. Colinearity between two predictor variables almost surely exists. We gave up accounting for this colinearity in order to maintain simplicity of the model.\n",
    "4. Further complex models like LASSO or ridge regression haven't been tried.\n",
    "5. This model doesn't make sure predicted bodyfat is positive!"
   ]
  },
  {
   "cell_type": "code",
   "execution_count": null,
   "metadata": {},
   "outputs": [],
   "source": []
  }
 ],
 "metadata": {
  "kernelspec": {
   "display_name": "R",
   "language": "R",
   "name": "ir"
  },
  "language_info": {
   "codemirror_mode": "r",
   "file_extension": ".r",
   "mimetype": "text/x-r-source",
   "name": "R",
   "pygments_lexer": "r",
   "version": "3.5.1"
  }
 },
 "nbformat": 4,
 "nbformat_minor": 2
}
